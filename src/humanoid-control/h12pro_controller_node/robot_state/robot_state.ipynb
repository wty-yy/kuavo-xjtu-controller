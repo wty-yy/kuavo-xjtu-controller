{
 "cells": [
  {
   "cell_type": "code",
   "execution_count": 5,
   "metadata": {},
   "outputs": [],
   "source": [
    "import json\n",
    "from transitions import Machine, State\n",
    "from transitions.extensions import GraphMachine\n",
    "\n",
    "robot_state_config_file = (\"robot_state.json\",)\n",
    "robot_state_config = json.load(open(\"robot_state.json\"))\n",
    "\n",
    "\n",
    "class Matter:\n",
    "    pass\n",
    "\n",
    "\n",
    "states = robot_state_config[\"states\"][\"ocs2\"]\n",
    "transitions = robot_state_config[\"transitions\"][\"ocs2\"]\n",
    "m = Machine(\n",
    "    model=None, states=states, transitions=transitions, initial=\"initial\"\n",
    ")\n",
    "machine = GraphMachine(\n",
    "    Matter(),\n",
    "    states=states,\n",
    "    transitions=transitions,\n",
    "    initial=\"initial\",\n",
    "    auto_transitions=False,\n",
    ")\n",
    "graph = machine.get_graph()\n",
    "graph.edge_attr[\"fontname\"] = \"Microsoft Yahei\"\n",
    "graph.node_attr[\"fontname\"] = \"Microsoft Yahei\"\n",
    "graph.graph_attr[\"fontname\"] = \"Microsoft Yahei\"\n",
    "graph.graph_attr[\"dpi\"] = \"300\"  # 设置分辨率\n",
    "graph.graph_attr.pop(\"label\")  # 删除标题\n",
    "graph.draw(\"robot_state_graph.png\", prog=\"dot\")"
   ]
  },
  {
   "cell_type": "code",
   "execution_count": 19,
   "metadata": {},
   "outputs": [
    {
     "name": "stdout",
     "output_type": "stream",
     "text": [
      "<class 'list'>\n",
      "initial\n"
     ]
    }
   ],
   "source": [
    "# machine.get_triggers(\"initial\")\n",
    "trans = machine.get_transitions(\"start\", \"initial\")\n",
    "print(type(trans))\n",
    "for t in trans:\n",
    "   print(t.source)"
   ]
  },
  {
   "cell_type": "code",
   "execution_count": null,
   "metadata": {},
   "outputs": [],
   "source": []
  }
 ],
 "metadata": {
  "kernelspec": {
   "display_name": "Python 3",
   "language": "python",
   "name": "python3"
  },
  "language_info": {
   "codemirror_mode": {
    "name": "ipython",
    "version": 3
   },
   "file_extension": ".py",
   "mimetype": "text/x-python",
   "name": "python",
   "nbconvert_exporter": "python",
   "pygments_lexer": "ipython3",
   "version": "3.10.12"
  }
 },
 "nbformat": 4,
 "nbformat_minor": 2
}
